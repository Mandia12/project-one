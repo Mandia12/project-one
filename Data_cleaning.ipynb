{
 "cells": [
  {
   "cell_type": "code",
   "execution_count": 3,
   "id": "e62935e5-a3c4-4778-91a2-7771a8ea61a5",
   "metadata": {},
   "outputs": [
    {
     "ename": "ModuleNotFoundError",
     "evalue": "No module named 'Read_in_data'",
     "output_type": "error",
     "traceback": [
      "\u001b[0;31m---------------------------------------------------------------------------\u001b[0m",
      "\u001b[0;31mModuleNotFoundError\u001b[0m                       Traceback (most recent call last)",
      "Cell \u001b[0;32mIn[3], line 5\u001b[0m\n\u001b[1;32m      3\u001b[0m \u001b[38;5;28;01mimport\u001b[39;00m \u001b[38;5;21;01mpandas\u001b[39;00m \u001b[38;5;28;01mas\u001b[39;00m \u001b[38;5;21;01mpd\u001b[39;00m\n\u001b[1;32m      4\u001b[0m \u001b[38;5;28;01mimport\u001b[39;00m \u001b[38;5;21;01mmatplotlib\u001b[39;00m \u001b[38;5;28;01mas\u001b[39;00m \u001b[38;5;21;01mplt\u001b[39;00m\n\u001b[0;32m----> 5\u001b[0m \u001b[38;5;28;01mfrom\u001b[39;00m \u001b[38;5;21;01mRead_in_data\u001b[39;00m\u001b[38;5;21;01m.\u001b[39;00m\u001b[38;5;21;01mipynb\u001b[39;00m \u001b[38;5;28;01mimport\u001b[39;00m outages_2020, outages_2021, outages_2022\n\u001b[1;32m      7\u001b[0m \u001b[38;5;66;03m# Reading in csv files with power outage data per year\u001b[39;00m\n\u001b[1;32m      8\u001b[0m \u001b[38;5;66;03m# outages_2020 = pd.read_csv(\"Resources/eaglei_outages_2020.csv\")\u001b[39;00m\n\u001b[1;32m      9\u001b[0m \u001b[38;5;66;03m# outages_2021 = pd.read_csv(\"Resources/eaglei_outages_2021.csv\")\u001b[39;00m\n\u001b[1;32m     10\u001b[0m \u001b[38;5;66;03m# outages_2022 = pd.read_csv(\"Resources/eaglei_outages_2022.csv\")\u001b[39;00m\n\u001b[1;32m     11\u001b[0m \n\u001b[1;32m     12\u001b[0m \u001b[38;5;66;03m# Creating dataframes keeping only data for chosen states\u001b[39;00m\n\u001b[1;32m     13\u001b[0m state_outages_2020 \u001b[38;5;241m=\u001b[39m outages_2020[outages_2020[\u001b[38;5;124m\"\u001b[39m\u001b[38;5;124mstate\u001b[39m\u001b[38;5;124m\"\u001b[39m]\u001b[38;5;241m.\u001b[39misin([\u001b[38;5;124m\"\u001b[39m\u001b[38;5;124mTexas\u001b[39m\u001b[38;5;124m\"\u001b[39m, \u001b[38;5;124m\"\u001b[39m\u001b[38;5;124mNorth Carolina\u001b[39m\u001b[38;5;124m\"\u001b[39m, \u001b[38;5;124m\"\u001b[39m\u001b[38;5;124mNew York\u001b[39m\u001b[38;5;124m\"\u001b[39m])]\n",
      "\u001b[0;31mModuleNotFoundError\u001b[0m: No module named 'Read_in_data'"
     ]
    }
   ],
   "source": [
    "# Importing dependencies\n",
    "import requests\n",
    "import pandas as pd\n",
    "import matplotlib as plt\n",
    "from Read_in_data.ipynb import outages_2020, outages_2021, outages_2022\n",
    "\n",
    "# Reading in csv files with power outage data per year\n",
    "# outages_2020 = pd.read_csv(\"Resources/eaglei_outages_2020.csv\")\n",
    "# outages_2021 = pd.read_csv(\"Resources/eaglei_outages_2021.csv\")\n",
    "# outages_2022 = pd.read_csv(\"Resources/eaglei_outages_2022.csv\")\n",
    "\n",
    "# Creating dataframes keeping only data for chosen states\n",
    "state_outages_2020 = outages_2020[outages_2020[\"state\"].isin([\"Texas\", \"North Carolina\", \"New York\"])]\n",
    "state_outages_2021 = outages_2021[outages_2021[\"state\"].isin([\"Texas\", \"North Carolina\", \"New York\"])]\n",
    "state_outages_2022 = outages_2022[outages_2022[\"state\"].isin([\"Texas\", \"North Carolina\", \"New York\"])]\n"
   ]
  },
  {
   "cell_type": "code",
   "execution_count": 90,
   "id": "54e2fff7-c3a1-46c3-9f1c-03ce9b0c7243",
   "metadata": {},
   "outputs": [
    {
     "data": {
      "text/html": [
       "<div>\n",
       "<style scoped>\n",
       "    .dataframe tbody tr th:only-of-type {\n",
       "        vertical-align: middle;\n",
       "    }\n",
       "\n",
       "    .dataframe tbody tr th {\n",
       "        vertical-align: top;\n",
       "    }\n",
       "\n",
       "    .dataframe thead th {\n",
       "        text-align: right;\n",
       "    }\n",
       "</style>\n",
       "<table border=\"1\" class=\"dataframe\">\n",
       "  <thead>\n",
       "    <tr style=\"text-align: right;\">\n",
       "      <th></th>\n",
       "      <th>State</th>\n",
       "      <th>Total Outages</th>\n",
       "      <th>Road Closures</th>\n",
       "      <th>Deaths</th>\n",
       "    </tr>\n",
       "    <tr>\n",
       "      <th>Year</th>\n",
       "      <th></th>\n",
       "      <th></th>\n",
       "      <th></th>\n",
       "      <th></th>\n",
       "    </tr>\n",
       "  </thead>\n",
       "  <tbody>\n",
       "    <tr>\n",
       "      <th>2020</th>\n",
       "      <td>New York</td>\n",
       "      <td>345,923,021</td>\n",
       "      <td></td>\n",
       "      <td></td>\n",
       "    </tr>\n",
       "    <tr>\n",
       "      <th>2020</th>\n",
       "      <td>North Carolina</td>\n",
       "      <td>148,045,759</td>\n",
       "      <td></td>\n",
       "      <td></td>\n",
       "    </tr>\n",
       "    <tr>\n",
       "      <th>2020</th>\n",
       "      <td>Texas</td>\n",
       "      <td>291,908,278</td>\n",
       "      <td></td>\n",
       "      <td></td>\n",
       "    </tr>\n",
       "  </tbody>\n",
       "</table>\n",
       "</div>"
      ],
      "text/plain": [
       "               State Total Outages Road Closures Deaths\n",
       "Year                                                   \n",
       "2020        New York   345,923,021                     \n",
       "2020  North Carolina   148,045,759                     \n",
       "2020           Texas   291,908,278                     "
      ]
     },
     "execution_count": 90,
     "metadata": {},
     "output_type": "execute_result"
    }
   ],
   "source": [
    "# Grouping by state and summing all outages to find total\n",
    "infra_2020_df = pd.DataFrame(state_outages_2020.groupby([\"state\"])[\"customers_out\"].sum())\n",
    "infra_2021_df = pd.DataFrame(state_outages_2021.groupby([\"state\"])[\"customers_out\"].sum())\n",
    "infra_2022_df = pd.DataFrame(state_outages_2022.groupby([\"state\"])[\"customers_out\"].sum())\n",
    "\n",
    "# Formatting \n",
    "# Resetting index\n",
    "infra_2020_df = infra_2020_df.reset_index()\n",
    "infra_2021_df = infra_2021_df.reset_index()\n",
    "infra_2022_df = infra_2022_df.reset_index()\n",
    "\n",
    "# Renaming columns\n",
    "infra_2020_df = infra_2020_df.rename(columns={\"state\": \"State\", \"customers_out\": \"Total Outages\"})\n",
    "infra_2021_df = infra_2021_df.rename(columns={\"state\": \"State\", \"customers_out\": \"Total Outages\"})\n",
    "infra_2022_df = infra_2022_df.rename(columns={\"state\": \"State\", \"customers_out\": \"Total Outages\"})\n",
    "\n",
    "# Changing format of \"Total Outages\" values\n",
    "infra_2020_df[\"Total Outages\"] = infra_2020_df[\"Total Outages\"].astype(int)\n",
    "infra_2020_df[\"Total Outages\"] = infra_2020_df['Total Outages'].map('{:,}'.format)\n",
    "infra_2021_df[\"Total Outages\"] = infra_2021_df[\"Total Outages\"].astype(int)\n",
    "infra_2021_df[\"Total Outages\"] = infra_2021_df['Total Outages'].map('{:,}'.format)\n",
    "infra_2022_df[\"Total Outages\"] = infra_2022_df[\"Total Outages\"].astype(int)\n",
    "infra_2022_df[\"Total Outages\"] = infra_2022_df['Total Outages'].map('{:,}'.format)\n",
    "\n",
    "# Adding \"Year\", \"Road Closures\", and \"Deaths\" columns\n",
    "infra_2020_df[\"Year\"] = 2020\n",
    "infra_2020_df[\"Road Closures\"] = \"\"\n",
    "infra_2020_df[\"Deaths\"] = \"\"\n",
    "infra_2021_df[\"Year\"] = 2021\n",
    "infra_2020_df[\"Road Closures\"] = \"\"\n",
    "infra_2020_df[\"Deaths\"] = \"\"\n",
    "infra_2022_df[\"Year\"] = 2022\n",
    "infra_2020_df[\"Road Closures\"] = \"\"\n",
    "infra_2020_df[\"Deaths\"] = \"\"\n",
    "\n",
    "# Resetting index to \"Year\"\n",
    "infra_2020_df.set_index('Year', inplace=True)\n",
    "infra_2021_df.set_index('Year', inplace=True)\n",
    "infra_2022_df.set_index('Year', inplace=True)\n"
   ]
  },
  {
   "cell_type": "code",
   "execution_count": null,
   "id": "65803088-adbc-4977-955e-d733b197d455",
   "metadata": {},
   "outputs": [],
   "source": [
    "# Once I've found other stats on infra, this is how you merge dfs for all years\n",
    "\n",
    "# total_df = pd.concat([infra_2020_df, infra_2021_df, infra_2022_df])\n",
    "# total_df"
   ]
  }
 ],
 "metadata": {
  "kernelspec": {
   "display_name": "Python 3 (ipykernel)",
   "language": "python",
   "name": "python3"
  },
  "language_info": {
   "codemirror_mode": {
    "name": "ipython",
    "version": 3
   },
   "file_extension": ".py",
   "mimetype": "text/x-python",
   "name": "python",
   "nbconvert_exporter": "python",
   "pygments_lexer": "ipython3",
   "version": "3.11.7"
  }
 },
 "nbformat": 4,
 "nbformat_minor": 5
}
