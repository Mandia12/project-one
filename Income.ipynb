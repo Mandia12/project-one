{
 "cells": [
  {
   "cell_type": "code",
   "execution_count": 57,
   "id": "0ac86c5e-51f9-410f-a963-8aaf23c7b51e",
   "metadata": {},
   "outputs": [],
   "source": [
    "# Dependencies \n",
    "import requests\n",
    "import pandas as pd\n",
    "from pathlib import Path\n",
    "import matplotlib.pyplot as plt\n"
   ]
  },
  {
   "cell_type": "code",
   "execution_count": 1,
   "id": "8acc720b-8552-49be-8eb7-0e2e05bf0b48",
   "metadata": {},
   "outputs": [
    {
     "ename": "NameError",
     "evalue": "name 'Path' is not defined",
     "output_type": "error",
     "traceback": [
      "\u001b[0;31m---------------------------------------------------------------------------\u001b[0m",
      "\u001b[0;31mNameError\u001b[0m                                 Traceback (most recent call last)",
      "Cell \u001b[0;32mIn[1], line 2\u001b[0m\n\u001b[1;32m      1\u001b[0m \u001b[38;5;66;03m# read and import csv\u001b[39;00m\n\u001b[0;32m----> 2\u001b[0m income_csv \u001b[38;5;241m=\u001b[39m \u001b[43mPath\u001b[49m(\u001b[38;5;124m\"\u001b[39m\u001b[38;5;124m/Users/hansgrice/Desktop/income.csv\u001b[39m\u001b[38;5;124m\"\u001b[39m)\n\u001b[1;32m      3\u001b[0m income_df \u001b[38;5;241m=\u001b[39m pd\u001b[38;5;241m.\u001b[39mread_csv(income_csv)\n",
      "\u001b[0;31mNameError\u001b[0m: name 'Path' is not defined"
     ]
    }
   ],
   "source": [
    "# read and import csv\n",
    "income_csv = Path(\"/Users/hansgrice/Desktop/income.csv\")\n",
    "income_df = pd.read_csv(income_csv)"
   ]
  },
  {
   "cell_type": "code",
   "execution_count": 59,
   "id": "52298e07-d52f-43f7-8b81-c03d0b6a6059",
   "metadata": {},
   "outputs": [
    {
     "data": {
      "text/html": [
       "<div>\n",
       "<style scoped>\n",
       "    .dataframe tbody tr th:only-of-type {\n",
       "        vertical-align: middle;\n",
       "    }\n",
       "\n",
       "    .dataframe tbody tr th {\n",
       "        vertical-align: top;\n",
       "    }\n",
       "\n",
       "    .dataframe thead th {\n",
       "        text-align: right;\n",
       "    }\n",
       "</style>\n",
       "<table border=\"1\" class=\"dataframe\">\n",
       "  <thead>\n",
       "    <tr style=\"text-align: right;\">\n",
       "      <th></th>\n",
       "      <th>State</th>\n",
       "      <th>Median Income 2020</th>\n",
       "      <th>Median Income 2021</th>\n",
       "      <th>Median Income 2022</th>\n",
       "    </tr>\n",
       "  </thead>\n",
       "  <tbody>\n",
       "    <tr>\n",
       "      <th>0</th>\n",
       "      <td>Texas</td>\n",
       "      <td>77,110</td>\n",
       "      <td>72,680</td>\n",
       "      <td>74,640</td>\n",
       "    </tr>\n",
       "  </tbody>\n",
       "</table>\n",
       "</div>"
      ],
      "text/plain": [
       "   State Median Income 2020  Median Income 2021  Median Income 2022\n",
       "0  Texas             77,110              72,680              74,640"
      ]
     },
     "execution_count": 59,
     "metadata": {},
     "output_type": "execute_result"
    }
   ],
   "source": [
    "# Read in files.\n",
    "income_df = pd.read_csv(income_csv)\n",
    "income_df = pd.read_csv(income_csv)\n",
    "income_df.head()"
   ]
  },
  {
   "cell_type": "code",
   "execution_count": 60,
   "id": "37fab8bd-314c-4c48-bce0-042b6d397c49",
   "metadata": {},
   "outputs": [],
   "source": [
    "# Define the median income data for Texas in 2020, 2021, and 2022\n",
    "median_income_data = {'Median Income 2020': 77110, 'Median Income 2021': 72680, 'Median Income 2022': 74640}\n",
    "\n",
    "# Create a DataFrame with the median income data\n",
    "income_df = pd.DataFrame(median_income_data, index=['Texas'])\n"
   ]
  },
  {
   "cell_type": "code",
   "execution_count": 62,
   "id": "dfe89967-da58-44a7-84d1-5fa1297b8eea",
   "metadata": {},
   "outputs": [
    {
     "data": {
      "image/png": "[encoded data removed]",
      "text/plain": [
       "<Figure size 640x480 with 1 Axes>"
      ]
     },
     "metadata": {},
     "output_type": "display_data"
    }
   ],
   "source": [
    "# Remove leading spaces from column names\n",
    "# Define the colors for each year\n",
    "colors = ['blue', 'green', 'red']\n",
    "\n",
    "# Create a bar plot with each year having a different color\n",
    "income_df.plot(kind='bar', y=['Median Income 2020', 'Median Income 2021', 'Median Income 2022'], color=colors)\n",
    "plt.ylim(55000, 80000)\n",
    "plt.show()"
   ]
  },
  {
   "cell_type": "code",
   "execution_count": null,
   "id": "5712154f-a491-438e-8373-f084036f5a23",
   "metadata": {},
   "outputs": [],
   "source": [
    "# Analysis \n",
    "# Overall, the data shows an up and down trend of income from 2020 - 2022 with a big drop in 2021 - 4,430, \n",
    "# not helping the damage that many households had to compensate for. \n"
   ]
  }
 ],
 "metadata": {
  "kernelspec": {
   "display_name": "Python 3 (ipykernel)",
   "language": "python",
   "name": "python3"
  },
  "language_info": {
   "codemirror_mode": {
    "name": "ipython",
    "version": 3
   },
   "file_extension": ".py",
   "mimetype": "text/x-python",
   "name": "python",
   "nbconvert_exporter": "python",
   "pygments_lexer": "ipython3",
   "version": "3.11.7"
  }
 },
 "nbformat": 4,
 "nbformat_minor": 5
}
