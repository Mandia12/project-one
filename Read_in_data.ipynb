{
 "cells": [
  {
   "cell_type": "code",
   "execution_count": 4,
   "id": "c1507aab-5393-4ecc-8b42-c8ce8bc8dada",
   "metadata": {},
   "outputs": [],
   "source": [
    "import pandas as pd\n",
    "\n",
    "# Reading in csv files with power outage data per year\n",
    "outages_2020 = pd.read_csv(\"Resources/eaglei_outages_2020.csv\")\n",
    "outages_2021 = pd.read_csv(\"Resources/eaglei_outages_2021.csv\")\n",
    "outages_2022 = pd.read_csv(\"Resources/eaglei_outages_2022.csv\")\n",
    "\n",
    "%store outages_2020\n",
    "\n"
   ]
  },
  {
   "cell_type": "code",
   "execution_count": null,
   "id": "9ef0ba9e-612d-4d74-a394-451e8443f9cc",
   "metadata": {},
   "outputs": [],
   "source": []
  }
 ],
 "metadata": {
  "kernelspec": {
   "display_name": "Python 3 (ipykernel)",
   "language": "python",
   "name": "python3"
  },
  "language_info": {
   "codemirror_mode": {
    "name": "ipython",
    "version": 3
   },
   "file_extension": ".py",
   "mimetype": "text/x-python",
   "name": "python",
   "nbconvert_exporter": "python",
   "pygments_lexer": "ipython3",
   "version": "3.11.7"
  }
 },
 "nbformat": 4,
 "nbformat_minor": 5
}
